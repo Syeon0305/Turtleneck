{
 "cells": [
  {
   "cell_type": "markdown",
   "metadata": {
    "colab_type": "text",
    "id": "tGaGJkRRZzRy"
   },
   "source": [
    "1. 실험 데이터 불러오기\n",
    "* 바른 자세(0) 일 때 동영상\n",
    "* 거북목 자세(1) 일 때 동영상\n"
   ]
  },
  {
   "cell_type": "code",
   "execution_count": 4,
   "metadata": {
    "colab": {
     "base_uri": "https://localhost:8080/",
     "height": 35
    },
    "colab_type": "code",
    "id": "dqWPsrvxgb5e",
    "outputId": "603ad0ab-1efd-49e4-c511-d6325bbca612"
   },
   "outputs": [
    {
     "name": "stdout",
     "output_type": "stream",
     "text": [
      "4.1.2\n",
      "실험이 종료 되었습니다.\n"
     ]
    }
   ],
   "source": [
    "import cv2\n",
    "import time\n",
    "print(cv2.__version__)\n",
    "\n",
    "cap = cv2.VideoCapture(0); \n",
    "count = 0\n",
    "end_time = time.time() + (60*2)\n",
    " \n",
    "width = cap.get(cv2.CAP_PROP_FRAME_WIDTH)\n",
    "height = cap.get(cv2.CAP_PROP_FRAME_HEIGHT)\n",
    "#print(\"size: {0} x {1}\".format(width, height))\n",
    "\n",
    " \n",
    "while cap.isOpened():\n",
    "    success, frame = cap.read()\n",
    "    \n",
    "    if success:\n",
    "        cv2.imshow('Video Window', frame)\n",
    "        \n",
    "        # avi : 24.00 frame/초\n",
    "        if (int(cap.get(1)) % 24 == 0):        # 1초에 24frame인데,12frame씩 자르기   \n",
    "            #print('Saved frame number : ' + str(int(vidcap.get(1))))\n",
    "            cv2.imwrite(\"./high/1/psy/1_1002_psy_%d.jpg\" % count, frame)\n",
    "            #print('Saved frame%d.jpg' % count)\n",
    "            count += 1\n",
    " \n",
    "        # end_time 지나면 종료\n",
    "        if time.time() > end_time:\n",
    "            cap.release()\n",
    "            cv2.destroyAllWindows()\n",
    "            print(\"실험이 종료 되었습니다.\") \n",
    "            break\n",
    "    else:\n",
    "        break\n"
   ]
  },
  {
   "cell_type": "code",
   "execution_count": null,
   "metadata": {},
   "outputs": [],
   "source": []
  },
  {
   "cell_type": "code",
   "execution_count": null,
   "metadata": {},
   "outputs": [],
   "source": []
  },
  {
   "cell_type": "code",
   "execution_count": null,
   "metadata": {},
   "outputs": [],
   "source": []
  }
 ],
 "metadata": {
  "colab": {
   "collapsed_sections": [],
   "name": "0523_방법B_실험 데이터 셋 생성",
   "provenance": []
  },
  "kernelspec": {
   "display_name": "Python 3",
   "language": "python",
   "name": "python3"
  },
  "language_info": {
   "codemirror_mode": {
    "name": "ipython",
    "version": 3
   },
   "file_extension": ".py",
   "mimetype": "text/x-python",
   "name": "python",
   "nbconvert_exporter": "python",
   "pygments_lexer": "ipython3",
   "version": "3.7.6"
  }
 },
 "nbformat": 4,
 "nbformat_minor": 1
}
