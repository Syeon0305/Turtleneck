{
 "cells": [
  {
   "cell_type": "code",
   "execution_count": 1,
   "metadata": {},
   "outputs": [
    {
     "name": "stdout",
     "output_type": "stream",
     "text": [
      "실험이 종료 되었습니다.\n"
     ]
    }
   ],
   "source": [
    "# 바른 자세(0)\n",
    "### 원본 + 어깨 한 쪽만 찍히는 경우 (조건문)\n",
    "### 어깨 양쪽 모두 안찍히면, 직전 값 누적\n",
    "\n",
    "\n",
    "import cv2\n",
    "import time\n",
    "import dlib\n",
    "import numpy as np\n",
    "import pandas as pd\n",
    "import time\n",
    "pd.set_option('display.max_rows', 500)\n",
    "pd.set_option('display.max_columns', 500)\n",
    "\n",
    "\n",
    "end_time = time.time() + (60*1)\n",
    "   \n",
    "def Detection():        \n",
    "    # Pose Detection : shoulder 2번, 5번\n",
    "    MODE = \"MPI\"\n",
    "\n",
    "    if MODE is \"MPI\" :\n",
    "        protoFile = \"pose_deploy_linevec_faster_4_stages.prototxt\"\n",
    "        weightsFile = \"pose_iter_160000.caffemodel\"\n",
    "        nPoints = 7\n",
    "\n",
    "    threshold = 0.1\n",
    "    net = cv2.dnn.readNetFromCaffe(protoFile, weightsFile)\n",
    "\n",
    "    # Face Detection : 1번 ~ 68번\n",
    "    detector = dlib.get_frontal_face_detector()\n",
    "    predictor = dlib.shape_predictor(\"shape_predictor_68_face_landmarks.dat\")\n",
    "\n",
    "    # WebCam(0) 으로 이미지 추출\n",
    "    cap = cv2.VideoCapture(0)\n",
    "    time.sleep(1) \n",
    "\n",
    "    # WebCam 실행 X\n",
    "    if not cap.isOpened():\n",
    "      exit()\n",
    "\n",
    "    shoulder_result = []\n",
    "    face_result = []\n",
    "    face_x_result = []\n",
    "    # WebCam 실행 O\n",
    "    while True:\n",
    "        hasFrame, image = cap.read()\n",
    "        #cv2.imshow('image', image)\n",
    "        frameCopy = np.copy(image)\n",
    "        faces = detector(image)\n",
    "\n",
    "        if not hasFrame:\n",
    "            break\n",
    "\n",
    "        frameHeight = image.shape[0]\n",
    "\n",
    "        inpBlob = cv2.dnn.blobFromImage(image, 1.0 / 255, (368, 368),(0, 0, 0), swapRB=False, crop=False)\n",
    "        net.setInput(inpBlob)\n",
    "        output = net.forward()\n",
    "\n",
    "        H = output.shape[2]\n",
    "\n",
    "        \n",
    "        # face detection\n",
    "        for face in faces:\n",
    "            landmarks = predictor(image, face)\n",
    "            x1 = landmarks.part(0).x\n",
    "            x17 = landmarks.part(16).x\n",
    "            x_length = x1 - x17\n",
    "            \n",
    "        face_x_result.append(x_length)\n",
    "               \n",
    "\n",
    "        # 종료\n",
    "        if cv2.waitKey(1) == ord('q'):\n",
    "            break\n",
    "            \n",
    "        if time.time() > end_time:\n",
    "                print(\"실험이 종료 되었습니다.\")\n",
    "                cap.release()\n",
    "                cv2.destroyAllWindows()\n",
    "                \n",
    "                #얼굴 광대 길이 df\n",
    "                df = pd.DataFrame(face_x_result)\n",
    "                df.columns = [\"x_length\"]\n",
    "               \n",
    "                #df:최종\n",
    "                #subtract(array)->df\n",
    "                df[\"class\"] = 1\n",
    "                df.to_csv(\"./A_data/high/1/1_train_0523_psy.csv\", index = False)\n",
    "                break\n",
    "           \n",
    "Detection()\n"
   ]
  },
  {
   "cell_type": "code",
   "execution_count": 22,
   "metadata": {},
   "outputs": [
    {
     "data": {
      "text/plain": [
       "'shoulder_result : 어깨선 평균값 담음\\nface_result : 얼굴좌표 담음\\nface_x_result : 얼굴광대길이 담음(dataframe)\\nx_length : 얼굴광대길이\\nsubtract : 얼굴좌표 - 어깨선 좌표\\n최종 : df'"
      ]
     },
     "execution_count": 22,
     "metadata": {},
     "output_type": "execute_result"
    }
   ],
   "source": [
    "#low_1은 low_0복사한것이지만 x_length는 뽑아낼 필요가 없어서 과정없음\n",
    "#변수명\n",
    "\"\"\"shoulder_result : 어깨선 평균값 담음\n",
    "face_result : 얼굴좌표 담음\n",
    "face_x_result : 얼굴광대길이 담음(dataframe)\n",
    "x_length : 얼굴광대길이\n",
    "subtract : 얼굴좌표 - 어깨선 좌표\n",
    "최종 : df\"\"\""
   ]
  }
 ],
 "metadata": {
  "kernelspec": {
   "display_name": "Python 3",
   "language": "python",
   "name": "python3"
  },
  "language_info": {
   "codemirror_mode": {
    "name": "ipython",
    "version": 3
   },
   "file_extension": ".py",
   "mimetype": "text/x-python",
   "name": "python",
   "nbconvert_exporter": "python",
   "pygments_lexer": "ipython3",
   "version": "3.6.10"
  }
 },
 "nbformat": 4,
 "nbformat_minor": 2
}
